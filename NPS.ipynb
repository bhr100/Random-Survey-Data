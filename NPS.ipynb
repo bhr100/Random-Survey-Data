{
 "cells": [
  {
   "cell_type": "code",
   "execution_count": 1,
   "metadata": {},
   "outputs": [
    {
     "data": {
      "text/html": [
       "        <script type=\"text/javascript\">\n",
       "        window.PlotlyConfig = {MathJaxConfig: 'local'};\n",
       "        if (window.MathJax && window.MathJax.Hub && window.MathJax.Hub.Config) {window.MathJax.Hub.Config({SVG: {font: \"STIX-Web\"}});}\n",
       "        if (typeof require !== 'undefined') {\n",
       "        require.undef(\"plotly\");\n",
       "        requirejs.config({\n",
       "            paths: {\n",
       "                'plotly': ['https://cdn.plot.ly/plotly-2.14.0.min']\n",
       "            }\n",
       "        });\n",
       "        require(['plotly'], function(Plotly) {\n",
       "            window._Plotly = Plotly;\n",
       "        });\n",
       "        }\n",
       "        </script>\n",
       "        "
      ]
     },
     "metadata": {},
     "output_type": "display_data"
    }
   ],
   "source": [
    "import pandas as pd\n",
    "import numpy as np \n",
    "import datetime as dt\n",
    "import seaborn as sas\n",
    "import matplotlib.pyplot as plt\n",
    "import plotly.express as px\n",
    "from plotly.offline import download_plotlyjs , init_notebook_mode ,plot ,iplot \n",
    "init_notebook_mode(connected=True)\n",
    "%matplotlib inline\n",
    "sas.set()"
   ]
  },
  {
   "cell_type": "code",
   "execution_count": 2,
   "metadata": {},
   "outputs": [],
   "source": [
    "NBS = pd.read_excel('H:/PYTHON/python for data science/s11-project/Random Survey Data/Random Survey Data.xlsx')"
   ]
  },
  {
   "cell_type": "code",
   "execution_count": 3,
   "metadata": {},
   "outputs": [
    {
     "data": {
      "text/html": [
       "<div>\n",
       "<style scoped>\n",
       "    .dataframe tbody tr th:only-of-type {\n",
       "        vertical-align: middle;\n",
       "    }\n",
       "\n",
       "    .dataframe tbody tr th {\n",
       "        vertical-align: top;\n",
       "    }\n",
       "\n",
       "    .dataframe thead th {\n",
       "        text-align: right;\n",
       "    }\n",
       "</style>\n",
       "<table border=\"1\" class=\"dataframe\">\n",
       "  <thead>\n",
       "    <tr style=\"text-align: right;\">\n",
       "      <th></th>\n",
       "      <th>Design - I easily understood how to use the product.</th>\n",
       "      <th>Design - I had no trouble installing the product.</th>\n",
       "      <th>Design - The product's design is unintuitive.</th>\n",
       "      <th>Design - I find the product aesthetically pleasing.</th>\n",
       "      <th>Design - The product has a functional design.</th>\n",
       "      <th>Quality - The product was durable.</th>\n",
       "      <th>Quality - The product was free from scratches.</th>\n",
       "      <th>Quality - The product is deformed.</th>\n",
       "      <th>Quality - I think the product will not last for several years.</th>\n",
       "      <th>Quality - The product is made from high quality materials.</th>\n",
       "      <th>Pricing - The product is affordable.</th>\n",
       "      <th>Pricing - The product saves me valuable time.</th>\n",
       "      <th>Pricing - The product saves me valuable effort.</th>\n",
       "      <th>Pricing - I think my peers can afford this product.</th>\n",
       "      <th>Pricing - The product is not worth its price.</th>\n",
       "      <th>id</th>\n",
       "    </tr>\n",
       "  </thead>\n",
       "  <tbody>\n",
       "    <tr>\n",
       "      <th>0</th>\n",
       "      <td>Strongly Disagree</td>\n",
       "      <td>Strongly Agree</td>\n",
       "      <td>Disagree</td>\n",
       "      <td>Neutral</td>\n",
       "      <td>Disagree</td>\n",
       "      <td>Agree</td>\n",
       "      <td>Neutral</td>\n",
       "      <td>Agree</td>\n",
       "      <td>Neutral</td>\n",
       "      <td>Neutral</td>\n",
       "      <td>Agree</td>\n",
       "      <td>Neutral</td>\n",
       "      <td>Disagree</td>\n",
       "      <td>Neutral</td>\n",
       "      <td>Disagree</td>\n",
       "      <td>Respondent #1</td>\n",
       "    </tr>\n",
       "    <tr>\n",
       "      <th>1</th>\n",
       "      <td>Disagree</td>\n",
       "      <td>Agree</td>\n",
       "      <td>Neutral</td>\n",
       "      <td>Disagree</td>\n",
       "      <td>Neutral</td>\n",
       "      <td>Agree</td>\n",
       "      <td>Neutral</td>\n",
       "      <td>Neutral</td>\n",
       "      <td>Disagree</td>\n",
       "      <td>Neutral</td>\n",
       "      <td>Strongly Disagree</td>\n",
       "      <td>Agree</td>\n",
       "      <td>Strongly Disagree</td>\n",
       "      <td>Neutral</td>\n",
       "      <td>Disagree</td>\n",
       "      <td>Respondent #2</td>\n",
       "    </tr>\n",
       "    <tr>\n",
       "      <th>2</th>\n",
       "      <td>Strongly Disagree</td>\n",
       "      <td>Agree</td>\n",
       "      <td>Agree</td>\n",
       "      <td>Neutral</td>\n",
       "      <td>Disagree</td>\n",
       "      <td>Neutral</td>\n",
       "      <td>Disagree</td>\n",
       "      <td>Agree</td>\n",
       "      <td>Neutral</td>\n",
       "      <td>Disagree</td>\n",
       "      <td>Disagree</td>\n",
       "      <td>Agree</td>\n",
       "      <td>Strongly Disagree</td>\n",
       "      <td>Disagree</td>\n",
       "      <td>Disagree</td>\n",
       "      <td>Respondent #3</td>\n",
       "    </tr>\n",
       "    <tr>\n",
       "      <th>3</th>\n",
       "      <td>Agree</td>\n",
       "      <td>Agree</td>\n",
       "      <td>Neutral</td>\n",
       "      <td>Neutral</td>\n",
       "      <td>Disagree</td>\n",
       "      <td>Agree</td>\n",
       "      <td>Disagree</td>\n",
       "      <td>Neutral</td>\n",
       "      <td>Disagree</td>\n",
       "      <td>Neutral</td>\n",
       "      <td>Strongly Disagree</td>\n",
       "      <td>Agree</td>\n",
       "      <td>Strongly Disagree</td>\n",
       "      <td>Disagree</td>\n",
       "      <td>Disagree</td>\n",
       "      <td>Respondent #4</td>\n",
       "    </tr>\n",
       "    <tr>\n",
       "      <th>4</th>\n",
       "      <td>Disagree</td>\n",
       "      <td>Agree</td>\n",
       "      <td>Neutral</td>\n",
       "      <td>Neutral</td>\n",
       "      <td>Neutral</td>\n",
       "      <td>Disagree</td>\n",
       "      <td>Disagree</td>\n",
       "      <td>Agree</td>\n",
       "      <td>Neutral</td>\n",
       "      <td>Neutral</td>\n",
       "      <td>Strongly Disagree</td>\n",
       "      <td>Neutral</td>\n",
       "      <td>Strongly Disagree</td>\n",
       "      <td>Disagree</td>\n",
       "      <td>Disagree</td>\n",
       "      <td>Respondent #5</td>\n",
       "    </tr>\n",
       "    <tr>\n",
       "      <th>...</th>\n",
       "      <td>...</td>\n",
       "      <td>...</td>\n",
       "      <td>...</td>\n",
       "      <td>...</td>\n",
       "      <td>...</td>\n",
       "      <td>...</td>\n",
       "      <td>...</td>\n",
       "      <td>...</td>\n",
       "      <td>...</td>\n",
       "      <td>...</td>\n",
       "      <td>...</td>\n",
       "      <td>...</td>\n",
       "      <td>...</td>\n",
       "      <td>...</td>\n",
       "      <td>...</td>\n",
       "      <td>...</td>\n",
       "    </tr>\n",
       "    <tr>\n",
       "      <th>995</th>\n",
       "      <td>Strongly Disagree</td>\n",
       "      <td>Strongly Agree</td>\n",
       "      <td>Strongly Disagree</td>\n",
       "      <td>Neutral</td>\n",
       "      <td>Disagree</td>\n",
       "      <td>Agree</td>\n",
       "      <td>Strongly Disagree</td>\n",
       "      <td>Neutral</td>\n",
       "      <td>Disagree</td>\n",
       "      <td>Disagree</td>\n",
       "      <td>Strongly Agree</td>\n",
       "      <td>Neutral</td>\n",
       "      <td>Disagree</td>\n",
       "      <td>Disagree</td>\n",
       "      <td>Disagree</td>\n",
       "      <td>Respondent #996</td>\n",
       "    </tr>\n",
       "    <tr>\n",
       "      <th>996</th>\n",
       "      <td>Strongly Disagree</td>\n",
       "      <td>Strongly Agree</td>\n",
       "      <td>Neutral</td>\n",
       "      <td>Neutral</td>\n",
       "      <td>Strongly Disagree</td>\n",
       "      <td>Agree</td>\n",
       "      <td>Neutral</td>\n",
       "      <td>Agree</td>\n",
       "      <td>Neutral</td>\n",
       "      <td>Disagree</td>\n",
       "      <td>Neutral</td>\n",
       "      <td>Neutral</td>\n",
       "      <td>Neutral</td>\n",
       "      <td>Disagree</td>\n",
       "      <td>Disagree</td>\n",
       "      <td>Respondent #997</td>\n",
       "    </tr>\n",
       "    <tr>\n",
       "      <th>997</th>\n",
       "      <td>Strongly Disagree</td>\n",
       "      <td>Strongly Agree</td>\n",
       "      <td>Disagree</td>\n",
       "      <td>Neutral</td>\n",
       "      <td>Agree</td>\n",
       "      <td>Agree</td>\n",
       "      <td>Disagree</td>\n",
       "      <td>Agree</td>\n",
       "      <td>Neutral</td>\n",
       "      <td>Disagree</td>\n",
       "      <td>Neutral</td>\n",
       "      <td>Agree</td>\n",
       "      <td>Strongly Disagree</td>\n",
       "      <td>Neutral</td>\n",
       "      <td>Disagree</td>\n",
       "      <td>Respondent #998</td>\n",
       "    </tr>\n",
       "    <tr>\n",
       "      <th>998</th>\n",
       "      <td>Disagree</td>\n",
       "      <td>Strongly Agree</td>\n",
       "      <td>Agree</td>\n",
       "      <td>Agree</td>\n",
       "      <td>Disagree</td>\n",
       "      <td>Strongly Agree</td>\n",
       "      <td>Disagree</td>\n",
       "      <td>Agree</td>\n",
       "      <td>Disagree</td>\n",
       "      <td>Disagree</td>\n",
       "      <td>Disagree</td>\n",
       "      <td>Neutral</td>\n",
       "      <td>Disagree</td>\n",
       "      <td>Neutral</td>\n",
       "      <td>Disagree</td>\n",
       "      <td>Respondent #999</td>\n",
       "    </tr>\n",
       "    <tr>\n",
       "      <th>999</th>\n",
       "      <td>Neutral</td>\n",
       "      <td>Strongly Agree</td>\n",
       "      <td>Agree</td>\n",
       "      <td>Neutral</td>\n",
       "      <td>Disagree</td>\n",
       "      <td>Neutral</td>\n",
       "      <td>Disagree</td>\n",
       "      <td>Agree</td>\n",
       "      <td>Disagree</td>\n",
       "      <td>Disagree</td>\n",
       "      <td>Neutral</td>\n",
       "      <td>Agree</td>\n",
       "      <td>Strongly Disagree</td>\n",
       "      <td>Neutral</td>\n",
       "      <td>Neutral</td>\n",
       "      <td>Respondent #1000</td>\n",
       "    </tr>\n",
       "  </tbody>\n",
       "</table>\n",
       "<p>1000 rows × 16 columns</p>\n",
       "</div>"
      ],
      "text/plain": [
       "    Design - I easily understood how to use the product.  \\\n",
       "0                                    Strongly Disagree     \n",
       "1                                             Disagree     \n",
       "2                                    Strongly Disagree     \n",
       "3                                                Agree     \n",
       "4                                             Disagree     \n",
       "..                                                 ...     \n",
       "995                                  Strongly Disagree     \n",
       "996                                  Strongly Disagree     \n",
       "997                                  Strongly Disagree     \n",
       "998                                           Disagree     \n",
       "999                                            Neutral     \n",
       "\n",
       "    Design - I had no trouble installing the product.  \\\n",
       "0                                      Strongly Agree   \n",
       "1                                               Agree   \n",
       "2                                               Agree   \n",
       "3                                               Agree   \n",
       "4                                               Agree   \n",
       "..                                                ...   \n",
       "995                                    Strongly Agree   \n",
       "996                                    Strongly Agree   \n",
       "997                                    Strongly Agree   \n",
       "998                                    Strongly Agree   \n",
       "999                                    Strongly Agree   \n",
       "\n",
       "    Design - The product's design is unintuitive.  \\\n",
       "0                                        Disagree   \n",
       "1                                         Neutral   \n",
       "2                                           Agree   \n",
       "3                                         Neutral   \n",
       "4                                         Neutral   \n",
       "..                                            ...   \n",
       "995                             Strongly Disagree   \n",
       "996                                       Neutral   \n",
       "997                                      Disagree   \n",
       "998                                         Agree   \n",
       "999                                         Agree   \n",
       "\n",
       "    Design - I find the product aesthetically pleasing.  \\\n",
       "0                                              Neutral    \n",
       "1                                             Disagree    \n",
       "2                                              Neutral    \n",
       "3                                              Neutral    \n",
       "4                                              Neutral    \n",
       "..                                                 ...    \n",
       "995                                            Neutral    \n",
       "996                                            Neutral    \n",
       "997                                            Neutral    \n",
       "998                                              Agree    \n",
       "999                                            Neutral    \n",
       "\n",
       "    Design - The product has a functional design.  \\\n",
       "0                                        Disagree   \n",
       "1                                         Neutral   \n",
       "2                                        Disagree   \n",
       "3                                        Disagree   \n",
       "4                                         Neutral   \n",
       "..                                            ...   \n",
       "995                                      Disagree   \n",
       "996                             Strongly Disagree   \n",
       "997                                         Agree   \n",
       "998                                      Disagree   \n",
       "999                                      Disagree   \n",
       "\n",
       "    Quality - The product was durable.  \\\n",
       "0                                Agree   \n",
       "1                                Agree   \n",
       "2                              Neutral   \n",
       "3                                Agree   \n",
       "4                             Disagree   \n",
       "..                                 ...   \n",
       "995                              Agree   \n",
       "996                              Agree   \n",
       "997                              Agree   \n",
       "998                     Strongly Agree   \n",
       "999                            Neutral   \n",
       "\n",
       "    Quality - The product was free from scratches.  \\\n",
       "0                                          Neutral   \n",
       "1                                          Neutral   \n",
       "2                                         Disagree   \n",
       "3                                         Disagree   \n",
       "4                                         Disagree   \n",
       "..                                             ...   \n",
       "995                              Strongly Disagree   \n",
       "996                                        Neutral   \n",
       "997                                       Disagree   \n",
       "998                                       Disagree   \n",
       "999                                       Disagree   \n",
       "\n",
       "    Quality - The product is deformed.  \\\n",
       "0                                Agree   \n",
       "1                              Neutral   \n",
       "2                                Agree   \n",
       "3                              Neutral   \n",
       "4                                Agree   \n",
       "..                                 ...   \n",
       "995                            Neutral   \n",
       "996                              Agree   \n",
       "997                              Agree   \n",
       "998                              Agree   \n",
       "999                              Agree   \n",
       "\n",
       "    Quality - I think the product will not last for several years.  \\\n",
       "0                                              Neutral               \n",
       "1                                             Disagree               \n",
       "2                                              Neutral               \n",
       "3                                             Disagree               \n",
       "4                                              Neutral               \n",
       "..                                                 ...               \n",
       "995                                           Disagree               \n",
       "996                                            Neutral               \n",
       "997                                            Neutral               \n",
       "998                                           Disagree               \n",
       "999                                           Disagree               \n",
       "\n",
       "    Quality - The product is made from high quality materials.  \\\n",
       "0                                              Neutral           \n",
       "1                                              Neutral           \n",
       "2                                             Disagree           \n",
       "3                                              Neutral           \n",
       "4                                              Neutral           \n",
       "..                                                 ...           \n",
       "995                                           Disagree           \n",
       "996                                           Disagree           \n",
       "997                                           Disagree           \n",
       "998                                           Disagree           \n",
       "999                                           Disagree           \n",
       "\n",
       "    Pricing - The product is affordable.  \\\n",
       "0                                  Agree   \n",
       "1                      Strongly Disagree   \n",
       "2                               Disagree   \n",
       "3                      Strongly Disagree   \n",
       "4                      Strongly Disagree   \n",
       "..                                   ...   \n",
       "995                       Strongly Agree   \n",
       "996                              Neutral   \n",
       "997                              Neutral   \n",
       "998                             Disagree   \n",
       "999                              Neutral   \n",
       "\n",
       "    Pricing - The product saves me valuable time.  \\\n",
       "0                                         Neutral   \n",
       "1                                           Agree   \n",
       "2                                           Agree   \n",
       "3                                           Agree   \n",
       "4                                         Neutral   \n",
       "..                                            ...   \n",
       "995                                       Neutral   \n",
       "996                                       Neutral   \n",
       "997                                         Agree   \n",
       "998                                       Neutral   \n",
       "999                                         Agree   \n",
       "\n",
       "    Pricing - The product saves me valuable effort.  \\\n",
       "0                                          Disagree   \n",
       "1                                 Strongly Disagree   \n",
       "2                                 Strongly Disagree   \n",
       "3                                 Strongly Disagree   \n",
       "4                                 Strongly Disagree   \n",
       "..                                              ...   \n",
       "995                                        Disagree   \n",
       "996                                         Neutral   \n",
       "997                               Strongly Disagree   \n",
       "998                                        Disagree   \n",
       "999                               Strongly Disagree   \n",
       "\n",
       "    Pricing - I think my peers can afford this product.  \\\n",
       "0                                              Neutral    \n",
       "1                                              Neutral    \n",
       "2                                             Disagree    \n",
       "3                                             Disagree    \n",
       "4                                             Disagree    \n",
       "..                                                 ...    \n",
       "995                                           Disagree    \n",
       "996                                           Disagree    \n",
       "997                                            Neutral    \n",
       "998                                            Neutral    \n",
       "999                                            Neutral    \n",
       "\n",
       "    Pricing - The product is not worth its price.                id  \n",
       "0                                        Disagree     Respondent #1  \n",
       "1                                        Disagree     Respondent #2  \n",
       "2                                        Disagree     Respondent #3  \n",
       "3                                        Disagree     Respondent #4  \n",
       "4                                        Disagree     Respondent #5  \n",
       "..                                            ...               ...  \n",
       "995                                      Disagree   Respondent #996  \n",
       "996                                      Disagree   Respondent #997  \n",
       "997                                      Disagree   Respondent #998  \n",
       "998                                      Disagree   Respondent #999  \n",
       "999                                       Neutral  Respondent #1000  \n",
       "\n",
       "[1000 rows x 16 columns]"
      ]
     },
     "execution_count": 3,
     "metadata": {},
     "output_type": "execute_result"
    }
   ],
   "source": [
    "NBS"
   ]
  },
  {
   "cell_type": "code",
   "execution_count": 4,
   "metadata": {},
   "outputs": [],
   "source": [
    "Random_Survey_Data = NBS.melt(id_vars='id' , value_vars=NBS.columns[:-1] , var_name='Attributs' , value_name='value')"
   ]
  },
  {
   "cell_type": "code",
   "execution_count": 5,
   "metadata": {},
   "outputs": [],
   "source": [
    "Random = Random_Survey_Data.drop_duplicates(subset='Attributs').reset_index(drop=True)"
   ]
  },
  {
   "cell_type": "code",
   "execution_count": 6,
   "metadata": {},
   "outputs": [],
   "source": [
    "index = [2,7,6,14]"
   ]
  },
  {
   "cell_type": "code",
   "execution_count": 7,
   "metadata": {},
   "outputs": [],
   "source": [
    "Random['sentiment'] = np.select([Random.index.isin(index)],['Negative'],default=['Positive'])\n"
   ]
  },
  {
   "cell_type": "code",
   "execution_count": 39,
   "metadata": {},
   "outputs": [],
   "source": [
    "negative_attributs = Random[Random.sentiment == 'Negative']['Attributs'].unique()\n"
   ]
  },
  {
   "cell_type": "code",
   "execution_count": 9,
   "metadata": {},
   "outputs": [],
   "source": [
    "Random_Survey_Data['sentiment'] = np.select([Random_Survey_Data.Attributs.isin(negative_attributs)],['Negative'],default=['Positive'])"
   ]
  },
  {
   "cell_type": "code",
   "execution_count": 10,
   "metadata": {},
   "outputs": [],
   "source": [
    "Random_Survey_Data[['categroy','subcategory']] = Random_Survey_Data.Attributs.str.split('-',expand=True)"
   ]
  },
  {
   "cell_type": "code",
   "execution_count": 11,
   "metadata": {},
   "outputs": [],
   "source": [
    "Random_Survey_Data['likert_value'] = np.select([(Random_Survey_Data.value == 'Strongly Agree') & (Random_Survey_Data.sentiment == 'Positive'),\n",
    "                                               (Random_Survey_Data.value == 'Agree') & (Random_Survey_Data.sentiment == 'Positive'),\n",
    "                                               (Random_Survey_Data.value == 'Neutral') & (Random_Survey_Data.sentiment == 'Positive'),\n",
    "                                               (Random_Survey_Data.value == 'Disagree') & (Random_Survey_Data.sentiment == 'Positive'),\n",
    "                                               (Random_Survey_Data.value == 'Strongly Disagree') & (Random_Survey_Data.sentiment == 'Positive'),\n",
    "\n",
    "                                               (Random_Survey_Data.value == 'Strongly Agree') & (Random_Survey_Data.sentiment == 'Negative'),\n",
    "                                               (Random_Survey_Data.value == 'Agree') & (Random_Survey_Data.sentiment == 'Negative'),\n",
    "                                               (Random_Survey_Data.value == 'Neutral') & (Random_Survey_Data.sentiment == 'Negative'),\n",
    "                                               (Random_Survey_Data.value == 'Disagree') & (Random_Survey_Data.sentiment == 'Negative'),\n",
    "                                               (Random_Survey_Data.value == 'Strongly Disagree') & (Random_Survey_Data.sentiment == 'Negative')\n",
    "                                               ] , [5,4,3,2,1,1,2,3,4,5])"
   ]
  },
  {
   "cell_type": "code",
   "execution_count": 12,
   "metadata": {},
   "outputs": [
    {
     "data": {
      "text/plain": [
       "id              0\n",
       "Attributs       0\n",
       "value           0\n",
       "sentiment       0\n",
       "categroy        0\n",
       "subcategory     0\n",
       "likert_value    0\n",
       "dtype: int64"
      ]
     },
     "execution_count": 12,
     "metadata": {},
     "output_type": "execute_result"
    }
   ],
   "source": [
    "Random_Survey_Data.isna().sum()"
   ]
  },
  {
   "cell_type": "code",
   "execution_count": 13,
   "metadata": {},
   "outputs": [
    {
     "data": {
      "text/plain": [
       "id              object\n",
       "Attributs       object\n",
       "value           object\n",
       "sentiment       object\n",
       "categroy        object\n",
       "subcategory     object\n",
       "likert_value     int32\n",
       "dtype: object"
      ]
     },
     "execution_count": 13,
     "metadata": {},
     "output_type": "execute_result"
    }
   ],
   "source": [
    "Random_Survey_Data.dtypes"
   ]
  },
  {
   "attachments": {},
   "cell_type": "markdown",
   "metadata": {},
   "source": [
    "- ## Measurs"
   ]
  },
  {
   "attachments": {},
   "cell_type": "markdown",
   "metadata": {},
   "source": [
    "| Three Ways\n",
    "---"
   ]
  },
  {
   "cell_type": "code",
   "execution_count": 37,
   "metadata": {},
   "outputs": [
    {
     "data": {
      "text/html": [
       "<div>\n",
       "<style scoped>\n",
       "    .dataframe tbody tr th:only-of-type {\n",
       "        vertical-align: middle;\n",
       "    }\n",
       "\n",
       "    .dataframe tbody tr th {\n",
       "        vertical-align: top;\n",
       "    }\n",
       "\n",
       "    .dataframe thead th {\n",
       "        text-align: right;\n",
       "    }\n",
       "</style>\n",
       "<table border=\"1\" class=\"dataframe\">\n",
       "  <thead>\n",
       "    <tr style=\"text-align: right;\">\n",
       "      <th></th>\n",
       "      <th>Positive_counts</th>\n",
       "    </tr>\n",
       "  </thead>\n",
       "  <tbody>\n",
       "    <tr>\n",
       "      <th>0</th>\n",
       "      <td>4894</td>\n",
       "    </tr>\n",
       "  </tbody>\n",
       "</table>\n",
       "</div>"
      ],
      "text/plain": [
       "   Positive_counts\n",
       "0             4894"
      ]
     },
     "execution_count": 37,
     "metadata": {},
     "output_type": "execute_result"
    }
   ],
   "source": [
    "Positive_counts = sum(Random_Survey_Data.likert_value >=4)\n",
    "Positive_counts"
   ]
  },
  {
   "cell_type": "code",
   "execution_count": 15,
   "metadata": {},
   "outputs": [
    {
     "data": {
      "text/plain": [
       "4894"
      ]
     },
     "execution_count": 15,
     "metadata": {},
     "output_type": "execute_result"
    }
   ],
   "source": [
    "((Random_Survey_Data.likert_value == 4) | (Random_Survey_Data.likert_value == 5)).sum()"
   ]
  },
  {
   "cell_type": "code",
   "execution_count": 16,
   "metadata": {},
   "outputs": [
    {
     "data": {
      "text/plain": [
       "4894"
      ]
     },
     "execution_count": 16,
     "metadata": {},
     "output_type": "execute_result"
    }
   ],
   "source": [
    "Random_Survey_Data[Random_Survey_Data.likert_value >=4]['Attributs'].count()"
   ]
  },
  {
   "cell_type": "code",
   "execution_count": 17,
   "metadata": {},
   "outputs": [
    {
     "data": {
      "text/plain": [
       "-5868"
      ]
     },
     "execution_count": 17,
     "metadata": {},
     "output_type": "execute_result"
    }
   ],
   "source": [
    "Negative_counts = sum(Random_Survey_Data.likert_value <=2) * -1 \n",
    "Negative_counts"
   ]
  },
  {
   "cell_type": "code",
   "execution_count": 18,
   "metadata": {},
   "outputs": [
    {
     "data": {
      "text/plain": [
       "-2119.0"
      ]
     },
     "execution_count": 18,
     "metadata": {},
     "output_type": "execute_result"
    }
   ],
   "source": [
    "Neutral_counts_N = sum(Random_Survey_Data.likert_value ==3) * -0.5\n",
    "Neutral_counts_N"
   ]
  },
  {
   "cell_type": "code",
   "execution_count": 19,
   "metadata": {},
   "outputs": [
    {
     "data": {
      "text/plain": [
       "2119.0"
      ]
     },
     "execution_count": 19,
     "metadata": {},
     "output_type": "execute_result"
    }
   ],
   "source": [
    "Neutral_counts_p = sum(Random_Survey_Data.likert_value ==3) * 0.5\n",
    "Neutral_counts_p"
   ]
  },
  {
   "cell_type": "code",
   "execution_count": 20,
   "metadata": {},
   "outputs": [
    {
     "data": {
      "text/plain": [
       "4238"
      ]
     },
     "execution_count": 20,
     "metadata": {},
     "output_type": "execute_result"
    }
   ],
   "source": [
    "Neutral_counts_all = sum(Random_Survey_Data.likert_value ==3)\n",
    "Neutral_counts_all"
   ]
  },
  {
   "cell_type": "code",
   "execution_count": 21,
   "metadata": {},
   "outputs": [
    {
     "data": {
      "text/plain": [
       "5868"
      ]
     },
     "execution_count": 21,
     "metadata": {},
     "output_type": "execute_result"
    }
   ],
   "source": [
    "Negative_counts_p = sum(Random_Survey_Data.likert_value <=2)\n",
    "Negative_counts_p"
   ]
  },
  {
   "cell_type": "code",
   "execution_count": 22,
   "metadata": {},
   "outputs": [],
   "source": [
    "scors_positive = Positive_counts / Random_Survey_Data.likert_value.count()\n",
    "scors_Negative_counts = Negative_counts / Random_Survey_Data.likert_value.count()\n",
    "scors_neutral_p = Neutral_counts_p / Random_Survey_Data.likert_value.count()\n",
    "scors_neutral_N = Neutral_counts_N / Random_Survey_Data.likert_value.count()\n",
    "scors_Negative_counts_p = Negative_counts_p / Random_Survey_Data.likert_value.count()\n",
    "scors_Neutral_counts_N = Neutral_counts_N / Random_Survey_Data.likert_value.count()\n",
    "scors_Neutral_counts_all = Neutral_counts_all / Random_Survey_Data.likert_value.count()\n",
    "nps = scors_positive + scors_Negative_counts *100\n"
   ]
  },
  {
   "cell_type": "code",
   "execution_count": 28,
   "metadata": {},
   "outputs": [],
   "source": [
    "Random_Survey_Data.to_csv('H:/PYTHON/python for data science/s11-project.csv')"
   ]
  }
 ],
 "metadata": {
  "kernelspec": {
   "display_name": "Python 3",
   "language": "python",
   "name": "python3"
  },
  "language_info": {
   "codemirror_mode": {
    "name": "ipython",
    "version": 3
   },
   "file_extension": ".py",
   "mimetype": "text/x-python",
   "name": "python",
   "nbconvert_exporter": "python",
   "pygments_lexer": "ipython3",
   "version": "3.10.5 (tags/v3.10.5:f377153, Jun  6 2022, 16:14:13) [MSC v.1929 64 bit (AMD64)]"
  },
  "orig_nbformat": 4,
  "vscode": {
   "interpreter": {
    "hash": "f498f339f928c058cfc05fb4a17b6332d2d89b188a19e4306aeb231decb1ac55"
   }
  }
 },
 "nbformat": 4,
 "nbformat_minor": 2
}
